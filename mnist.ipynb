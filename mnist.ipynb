{
 "cells": [
  {
   "cell_type": "markdown",
   "metadata": {},
   "source": [
    "# MNIST Neural Network\n",
    "\n",
    "Mini working example of training a neural network. \n",
    "\n",
    "***\n",
    "**Part 1/4: Loading and Inspection**\n",
    "* MNIST is a data set of labeled images of \n",
    "    *hand-written digits (0-9)*\n",
    "\n",
    "* We can load MNIST with `tf.keras.datasets.mnist.load_data()`\n",
    "* Let's see what this data looks like!"
   ]
  },
  {
   "cell_type": "code",
   "execution_count": 1,
   "metadata": {
    "scrolled": true
   },
   "outputs": [
    {
     "name": "stdout",
     "output_type": "stream",
     "text": [
      "MNIST training images info: \n",
      " ... type:<class 'numpy.ndarray'>\n",
      " ... shape:(60000, 28, 28)\n",
      " ... data:uint8\n",
      "\n",
      " MNIST training labels info: \n",
      " ... type:<class 'numpy.ndarray'>\n",
      " ... shape:(60000,)\n",
      " ... data:uint8\n",
      " ... unique:[0 1 2 3 4 5 6 7 8 9]\n",
      "\n",
      " MNIST testing images info: \n",
      " ... type:<class 'numpy.ndarray'>\n",
      " ... shape:(10000, 28, 28)\n",
      " ... data:uint8\n",
      "\n",
      " MNIST testing labels info: \n",
      " ... type:<class 'numpy.ndarray'>\n",
      " ... shape:(10000,)\n",
      " ... data:uint8\n",
      " ... unique:[0 1 2 3 4 5 6 7 8 9]\n"
     ]
    }
   ],
   "source": [
    "import tensorflow as tf\n",
    "import numpy as np\n",
    "\n",
    "(training_images, training_labels), \\\n",
    "(testing_images,  testing_labels) = \\\n",
    "    tf.keras.datasets.mnist.load_data()\n",
    "\n",
    "print('MNIST training images info: ' + \n",
    "    '\\n ... type:'  + str(type(training_images)) + \n",
    "    '\\n ... shape:' + str(training_images.shape) + \n",
    "    '\\n ... data:'  + str(str(training_images.dtype)))\n",
    "\n",
    "print('\\n MNIST training labels info: ' + \n",
    "    '\\n ... type:'  + str(type(training_labels)) + \n",
    "    '\\n ... shape:' + str(training_labels.shape) + \n",
    "    '\\n ... data:'  + str(training_labels.dtype) + \n",
    "    '\\n ... unique:'+ str(np.unique(training_labels)))\n",
    "\n",
    "print('\\n MNIST testing images info: ' + \n",
    "    '\\n ... type:'  + str(type(testing_images)) + \n",
    "    '\\n ... shape:' + str(testing_images.shape) + \n",
    "    '\\n ... data:'  + str(str(testing_images.dtype)))\n",
    "\n",
    "print('\\n MNIST testing labels info: ' + \n",
    "    '\\n ... type:'  + str(type(testing_labels)) + \n",
    "    '\\n ... shape:' + str(testing_labels.shape) + \n",
    "    '\\n ... data:'  + str(testing_labels.dtype) + \n",
    "    '\\n ... unique:'+ str(np.unique(testing_labels)))"
   ]
  },
  {
   "cell_type": "markdown",
   "metadata": {},
   "source": [
    "**Part 2/4: Visualization**\n",
    "* There appear to be 60,000 images for training and 10,000 images for testing\n",
    "* Each image is 28x28, grayscale\n",
    "* The first 40 training images are plotted with matplotlib"
   ]
  },
  {
   "cell_type": "code",
   "execution_count": 30,
   "metadata": {
    "scrolled": true
   },
   "outputs": [
    {
     "data": {
      "image/png": "[encoded data removed]",
      "text/plain": [
       "<Figure size 432x288 with 40 Axes>"
      ]
     },
     "metadata": {
      "needs_background": "light"
     },
     "output_type": "display_data"
    }
   ],
   "source": [
    "import matplotlib.pyplot as plt\n",
    "\n",
    "fig = plt.figure();\n",
    "\n",
    "for i in range(1,41):\n",
    "    fig.add_subplot(4,10,i);\n",
    "    plt.axis('off');\n",
    "    plt.imshow(training_images[i,:,:], cmap='gray');"
   ]
  },
  {
   "cell_type": "markdown",
   "metadata": {},
   "source": [
    "**Part 3/4: Preparation**\n",
    "* Pixel brightnesses are recast as floats with value in range 0-1\n",
    "* Image tensors are given an extra dimension to play nice with keras\n",
    "* Each label was originally a number between 0-9.  Now, each label is a 'one-hot' vector. For instance, the label \"0\" is now [1,0,0,0,0,0,0,0,0,0,0]"
   ]
  },
  {
   "cell_type": "code",
   "execution_count": 2,
   "metadata": {},
   "outputs": [
    {
     "name": "stdout",
     "output_type": "stream",
     "text": [
      "training_labels new shape: (60000, 10)\n",
      "testing_labels new shape: (10000, 10)\n"
     ]
    }
   ],
   "source": [
    "training_images = training_images.astype('float32')/255\n",
    "training_images = training_images.reshape(60000,28,28,1)\n",
    "\n",
    "testing_images  = testing_images.astype('float32')/255\n",
    "testing_images  = testing_images.reshape(10000,28,28,1)\n",
    "\n",
    "training_labels = tf.keras.utils.to_categorical(training_labels, 10)\n",
    "testing_labels  = tf.keras.utils.to_categorical(testing_labels, 10)\n",
    "\n",
    "print('training_labels new shape: {}'.format(training_labels.shape))\n",
    "print('testing_labels new shape: {}'.format(testing_labels.shape))"
   ]
  },
  {
   "cell_type": "markdown",
   "metadata": {},
   "source": [
    "**Part 4/4: Training**\n",
    "* A mini-neural network classifier is made using keras. The purpose is to train the data quickly.  \n",
    "* The model is defined, compiled, and then fit to the MNIST data"
   ]
  },
  {
   "cell_type": "code",
   "execution_count": 32,
   "metadata": {
    "scrolled": true
   },
   "outputs": [
    {
     "name": "stdout",
     "output_type": "stream",
     "text": [
      "Train on 60000 samples\n",
      "Epoch 1/10\n",
      "60000/60000 - 7s - loss: 0.0828 - accuracy: 0.3531\n",
      "Epoch 2/10\n",
      "60000/60000 - 9s - loss: 0.0564 - accuracy: 0.6813\n",
      "Epoch 3/10\n",
      "60000/60000 - 9s - loss: 0.0388 - accuracy: 0.7895\n",
      "Epoch 4/10\n",
      "60000/60000 - 9s - loss: 0.0298 - accuracy: 0.8397\n",
      "Epoch 5/10\n",
      "60000/60000 - 9s - loss: 0.0250 - accuracy: 0.8621\n",
      "Epoch 6/10\n",
      "60000/60000 - 9s - loss: 0.0223 - accuracy: 0.8743\n",
      "Epoch 7/10\n",
      "60000/60000 - 9s - loss: 0.0205 - accuracy: 0.8813\n",
      "Epoch 8/10\n",
      "60000/60000 - 9s - loss: 0.0192 - accuracy: 0.8872\n",
      "Epoch 9/10\n",
      "60000/60000 - 9s - loss: 0.0182 - accuracy: 0.8914\n",
      "Epoch 10/10\n",
      "60000/60000 - 9s - loss: 0.0174 - accuracy: 0.8946\n"
     ]
    },
    {
     "data": {
      "text/plain": [
       "<tensorflow.python.keras.callbacks.History at 0x15ad14f26c8>"
      ]
     },
     "execution_count": 32,
     "metadata": {},
     "output_type": "execute_result"
    }
   ],
   "source": [
    "L = tf.keras.layers\n",
    "\n",
    "model = tf.keras.models.Sequential([\n",
    "    L.Flatten(input_shape=(28,28,1)),  \n",
    "    L.Dense(128,activation='relu'),\n",
    "    L.Dense(10, activation='softmax')])\n",
    "\n",
    "model.compile(\n",
    "    metrics=['accuracy'],\n",
    "    loss='mean_squared_error', \n",
    "    optimizer='sgd')\n",
    "\n",
    "model.fit(\n",
    "    training_images, training_labels, \n",
    "    batch_size=16,\n",
    "    epochs=10, \n",
    "    verbose=2)"
   ]
  },
  {
   "cell_type": "markdown",
   "metadata": {},
   "source": [
    "$\\tiny\\text{\\$#}$"
   ]
  }
 ],
 "metadata": {
  "kernelspec": {
   "display_name": "Python 3",
   "language": "python",
   "name": "python3"
  },
  "language_info": {
   "codemirror_mode": {
    "name": "ipython",
    "version": 3
   },
   "file_extension": ".py",
   "mimetype": "text/x-python",
   "name": "python",
   "nbconvert_exporter": "python",
   "pygments_lexer": "ipython3",
   "version": "3.6.9"
  }
 },
 "nbformat": 4,
 "nbformat_minor": 2
}
